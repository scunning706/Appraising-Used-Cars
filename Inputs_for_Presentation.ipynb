{
  "nbformat": 4,
  "nbformat_minor": 0,
  "metadata": {
    "colab": {
      "name": "Inputs for Presentation.ipynb",
      "provenance": [],
      "collapsed_sections": [],
      "include_colab_link": true
    },
    "kernelspec": {
      "name": "python3",
      "display_name": "Python 3"
    }
  },
  "cells": [
    {
      "cell_type": "markdown",
      "metadata": {
        "id": "view-in-github",
        "colab_type": "text"
      },
      "source": [
        "<a href=\"https://colab.research.google.com/github/scunning706/Appraising-Used-Cars/blob/main/Inputs_for_Presentation.ipynb\" target=\"_parent\"><img src=\"https://colab.research.google.com/assets/colab-badge.svg\" alt=\"Open In Colab\"/></a>"
      ]
    },
    {
      "cell_type": "markdown",
      "metadata": {
        "id": "3yNT39qb7iPt"
      },
      "source": [
        "## Imports"
      ]
    },
    {
      "cell_type": "code",
      "metadata": {
        "colab": {
          "base_uri": "https://localhost:8080/"
        },
        "id": "EHkl6pAu7IHN",
        "outputId": "49bc3ea0-562e-4d7f-fab8-1c5a2c0bc3ba"
      },
      "source": [
        "import pandas as pd\n",
        "import numpy as np\n",
        "import joblib \n",
        "\n",
        "from matplotlib import pyplot as plt\n",
        "\n",
        "from sklearn.neighbors import KNeighborsRegressor\n",
        "from sklearn.preprocessing import LabelEncoder\n",
        "from sklearn.metrics import make_scorer, mean_absolute_error, r2_score\n",
        "\n",
        "from google.colab import drive\n",
        "drive.mount('/content/drive')\n",
        "drive_dir = '/content/drive/Shared drives/Project 4 (MATH 3439)/'"
      ],
      "execution_count": null,
      "outputs": [
        {
          "output_type": "stream",
          "text": [
            "Mounted at /content/drive\n"
          ],
          "name": "stdout"
        }
      ]
    },
    {
      "cell_type": "markdown",
      "metadata": {
        "id": "T3ekCUQ_7k7X"
      },
      "source": [
        "## Model and Data Loading"
      ]
    },
    {
      "cell_type": "code",
      "metadata": {
        "colab": {
          "base_uri": "https://localhost:8080/"
        },
        "id": "NZ3iQWRb7R95",
        "outputId": "8b28f564-71a3-43d2-8bb2-67d8a70e16bf"
      },
      "source": [
        "xg_model = joblib.load(drive_dir + 'models/XGB_model.joblib')"
      ],
      "execution_count": null,
      "outputs": [
        {
          "output_type": "stream",
          "text": [
            "[18:52:29] WARNING: /workspace/src/objective/regression_obj.cu:152: reg:linear is now deprecated in favor of reg:squarederror.\n"
          ],
          "name": "stdout"
        }
      ]
    },
    {
      "cell_type": "code",
      "metadata": {
        "id": "UraK86BH7YGX"
      },
      "source": [
        "knn_model0 = joblib.load(drive_dir + f'models/knn_model0.joblib')\n",
        "knn_model1 = joblib.load(drive_dir + f'models/knn_model1.joblib')\n",
        "knn_model2 = joblib.load(drive_dir + f'models/knn_model2.joblib')\n",
        "knn_model3 = joblib.load(drive_dir + f'models/knn_model3.joblib')\n",
        "knn_model4 = joblib.load(drive_dir + f'models/knn_model4.joblib')\n",
        "knn_model5 = joblib.load(drive_dir + f'models/knn_model5.joblib')\n",
        "knn_model6 = joblib.load(drive_dir + f'models/knn_model6.joblib')\n",
        "knn_model7 = joblib.load(drive_dir + f'models/knn_model7.joblib')\n",
        "knn_model8 = joblib.load(drive_dir + f'models/knn_model8.joblib')\n",
        "knn_model9 = joblib.load(drive_dir + f'models/knn_model9.joblib')\n",
        "knn_model10 = joblib.load(drive_dir + f'models/knn_model10.joblib')\n",
        "knn_model11 = joblib.load(drive_dir + f'models/knn_model11.joblib')"
      ],
      "execution_count": null,
      "outputs": []
    },
    {
      "cell_type": "code",
      "metadata": {
        "id": "ox6GxuZT7aiS"
      },
      "source": [
        "df = pd.read_csv(drive_dir + 'data/df_model2.csv')"
      ],
      "execution_count": null,
      "outputs": []
    },
    {
      "cell_type": "markdown",
      "metadata": {
        "id": "QA8pu1d-9UkU"
      },
      "source": [
        "## Inputs"
      ]
    },
    {
      "cell_type": "code",
      "metadata": {
        "id": "_bxeQ1sKgf-Q"
      },
      "source": [
        "columns = ['horsepower', 'wheel_system', 'year', 'owner_count', 'height', 'engine_type', 'city_fuel_economy', 'width', 'make_name']"
      ],
      "execution_count": null,
      "outputs": []
    },
    {
      "cell_type": "code",
      "metadata": {
        "id": "mHYQRADzf_3F"
      },
      "source": [
        "df_test = df[columns]"
      ],
      "execution_count": null,
      "outputs": []
    },
    {
      "cell_type": "code",
      "metadata": {
        "id": "CsB3hE3Mh_vE"
      },
      "source": [
        "def inputs(df):\n",
        "\n",
        "  while True:\n",
        "    year = int(input('What year is the car? '))\n",
        "    if year not in range(1950,2021):\n",
        "      print(f'Not a valid year. Try Again!')\n",
        "    else:\n",
        "      break\n",
        "  horsepower = input('How much horsepower does your car have (hp)? ')\n",
        "  owner_count = input('How many people have owned the car? ')\n",
        "  height = input('What is the height of the car? (inches) ')\n",
        "  width = input('What is the width of the car? (inches) ')\n",
        "  city_fuel = input('What is the city fuel economy? (mpg) ')\n",
        "  while True:\n",
        "    wheel_system = input('What is the wheel system? (FWD, AWD, 4WD, RWD, 4X2) ')\n",
        "    if wheel_system not in ['FWD', 'AWD', '4WD', 'RWD', '4X2']:\n",
        "      print(f'Not a valid wheel system. Check capitilization and spelling. Try Again!')\n",
        "    else:\n",
        "      break\n",
        "  make = input('What is the make of the car? ')\n",
        "  engine_type = input('What is the engine type? ')\n",
        "\n",
        "  #df = df.drop('price', axis='columns')\n",
        "\n",
        "  my_dict = {'year': [int(year)], \n",
        "             'horsepower': [int(horsepower)],\n",
        "             'height': [int(height)], \n",
        "             'owner_count': [int(owner_count)], \n",
        "             'wheel_system': [str(wheel_system)],\n",
        "             'engine_type': [str(engine_type)], \n",
        "             'city_fuel_economy': [int(city_fuel)],\n",
        "             'width': [int(width)],\n",
        "             'make_name': [str(make)]}\n",
        "\n",
        "  car = pd.DataFrame.from_dict(my_dict, orient='columns')\n",
        "\n",
        "  df = pd.concat([df, car])\n",
        "\n",
        "  for c in df.columns:\n",
        "    if c != 'price':  #default is fine; not sure if this line is necessary\n",
        "      if df[c].dtype == object:  \n",
        "          try:  \n",
        "              le = LabelEncoder()           \n",
        "              le.fit(df[c].unique())    \n",
        "              df[c] = le.transform(df[c])  \n",
        "          except Exception as e:         \n",
        "              print(c)         \n",
        "              print(e)\n",
        "\n",
        "  car = df[-1:]\n",
        "\n",
        "  return car"
      ],
      "execution_count": null,
      "outputs": []
    },
    {
      "cell_type": "code",
      "metadata": {
        "id": "oJXA5871hzuL"
      },
      "source": [
        "def get_knn(car):\n",
        "\n",
        "  price_0 = knn_model0.predict(car)\n",
        "  price_1 = knn_model1.predict(car)\n",
        "  price_2 = knn_model2.predict(car)\n",
        "  price_3 = knn_model3.predict(car)\n",
        "  price_4 = knn_model4.predict(car)\n",
        "  price_5 = knn_model5.predict(car)\n",
        "  price_6 = knn_model6.predict(car)\n",
        "  price_7 = knn_model7.predict(car)\n",
        "  price_8 = knn_model8.predict(car)\n",
        "  price_9 = knn_model9.predict(car)\n",
        "  price_10 = knn_model10.predict(car)\n",
        "  price_11 = knn_model11.predict(car)\n",
        "\n",
        "  price_prediction = (price_0 + price_1 + price_2 + price_3 + price_4 + price_5 + price_6 + price_7 + price_8 + price_9 + price_10 + price_11)/12 \n",
        "\n",
        "  #print(f'Your car is worth ${price_prediction[0]}.')\n",
        "\n",
        "  return price_prediction[0]"
      ],
      "execution_count": null,
      "outputs": []
    },
    {
      "cell_type": "code",
      "metadata": {
        "id": "RaB0U26LhH1Q"
      },
      "source": [
        "def get_xg(car):\n",
        "\n",
        "  price_prediction = xg_model.predict(car)\n",
        "\n",
        "  #print(f'Your car is worth ${price_prediction[0]}.')\n",
        "\n",
        "  return price_prediction[0]"
      ],
      "execution_count": null,
      "outputs": []
    },
    {
      "cell_type": "code",
      "metadata": {
        "id": "sEIKFqf8hx55"
      },
      "source": [
        "def user_input(df):\n",
        "\n",
        "  weight = 0.5475475475475475\n",
        "\n",
        "  users_car = inputs(df)\n",
        "\n",
        "  knn_predict = get_knn(users_car)\n",
        "\n",
        "  xg_predict = get_xg(users_car)\n",
        "\n",
        "  price = weight*knn_predict + (1-weight)*xg_predict\n",
        "\n",
        "  price_interval_lower = int(price - (2015/2))\n",
        "  price_interval_higher = int(price + (2015/2))\n",
        "\n",
        "  print(f'Your car is worth between (${round(price_interval_lower,-2)}, ${round(price_interval_higher,-2)}).')"
      ],
      "execution_count": null,
      "outputs": []
    },
    {
      "cell_type": "code",
      "metadata": {
        "id": "Qr-Fp8Ili-Jf"
      },
      "source": [
        "user_input(df_test)"
      ],
      "execution_count": null,
      "outputs": []
    }
  ]
}